{
 "cells": [
  {
   "cell_type": "code",
   "execution_count": 144,
   "metadata": {},
   "outputs": [],
   "source": [
    "classifierName = \"JumpingJacksRest.mlmodel\"\n",
    "dataName = \"jumpingJacksRest.txt\""
   ]
  },
  {
   "cell_type": "code",
   "execution_count": 145,
   "metadata": {},
   "outputs": [],
   "source": [
    "import numpy as np\n",
    "import pandas as pd\n",
    "import matplotlib.pyplot as plt\n",
    "\n",
    "from sklearn.preprocessing import *\n",
    "from sklearn.model_selection import KFold, cross_val_score\n",
    "from sklearn.metrics import confusion_matrix\n",
    "from sklearn.utils.multiclass import unique_labels\n",
    "\n",
    "from sklearn.neighbors import KNeighborsClassifier\n",
    "from sklearn.ensemble import RandomForestClassifier\n",
    "from sklearn.neural_network import MLPClassifier\n",
    "\n",
    "import warnings\n",
    "warnings.filterwarnings('ignore')\n",
    "\n",
    "%matplotlib inline"
   ]
  },
  {
   "cell_type": "code",
   "execution_count": 146,
   "metadata": {},
   "outputs": [],
   "source": [
    "df = pd.read_csv(\"./Data/\" + dataName, sep=\",\", header=None)"
   ]
  },
  {
   "cell_type": "code",
   "execution_count": 147,
   "metadata": {},
   "outputs": [
    {
     "data": {
      "text/html": [
       "<div>\n",
       "<style scoped>\n",
       "    .dataframe tbody tr th:only-of-type {\n",
       "        vertical-align: middle;\n",
       "    }\n",
       "\n",
       "    .dataframe tbody tr th {\n",
       "        vertical-align: top;\n",
       "    }\n",
       "\n",
       "    .dataframe thead th {\n",
       "        text-align: right;\n",
       "    }\n",
       "</style>\n",
       "<table border=\"1\" class=\"dataframe\">\n",
       "  <thead>\n",
       "    <tr style=\"text-align: right;\">\n",
       "      <th></th>\n",
       "      <th>0</th>\n",
       "      <th>1</th>\n",
       "      <th>2</th>\n",
       "      <th>3</th>\n",
       "      <th>4</th>\n",
       "      <th>5</th>\n",
       "      <th>6</th>\n",
       "      <th>7</th>\n",
       "      <th>8</th>\n",
       "      <th>9</th>\n",
       "      <th>...</th>\n",
       "      <th>19</th>\n",
       "      <th>20</th>\n",
       "      <th>21</th>\n",
       "      <th>22</th>\n",
       "      <th>23</th>\n",
       "      <th>24</th>\n",
       "      <th>25</th>\n",
       "      <th>26</th>\n",
       "      <th>27</th>\n",
       "      <th>28</th>\n",
       "    </tr>\n",
       "  </thead>\n",
       "  <tbody>\n",
       "    <tr>\n",
       "      <th>0</th>\n",
       "      <td>0.505208</td>\n",
       "      <td>0.255208</td>\n",
       "      <td>0.546875</td>\n",
       "      <td>0.255208</td>\n",
       "      <td>0.491319</td>\n",
       "      <td>0.269097</td>\n",
       "      <td>0.421875</td>\n",
       "      <td>0.296875</td>\n",
       "      <td>0.421875</td>\n",
       "      <td>0.255208</td>\n",
       "      <td>...</td>\n",
       "      <td>0.630208</td>\n",
       "      <td>0.380208</td>\n",
       "      <td>0.755208</td>\n",
       "      <td>0.546875</td>\n",
       "      <td>0.463542</td>\n",
       "      <td>0.588542</td>\n",
       "      <td>0.630208</td>\n",
       "      <td>0.630208</td>\n",
       "      <td>0.755208</td>\n",
       "      <td>1</td>\n",
       "    </tr>\n",
       "    <tr>\n",
       "      <th>1</th>\n",
       "      <td>0.505208</td>\n",
       "      <td>0.255208</td>\n",
       "      <td>0.519097</td>\n",
       "      <td>0.269097</td>\n",
       "      <td>0.477431</td>\n",
       "      <td>0.269097</td>\n",
       "      <td>0.421875</td>\n",
       "      <td>0.310764</td>\n",
       "      <td>0.407986</td>\n",
       "      <td>0.255208</td>\n",
       "      <td>...</td>\n",
       "      <td>0.630208</td>\n",
       "      <td>0.380208</td>\n",
       "      <td>0.741319</td>\n",
       "      <td>0.546875</td>\n",
       "      <td>0.463542</td>\n",
       "      <td>0.588542</td>\n",
       "      <td>0.630208</td>\n",
       "      <td>0.630208</td>\n",
       "      <td>0.755208</td>\n",
       "      <td>1</td>\n",
       "    </tr>\n",
       "    <tr>\n",
       "      <th>2</th>\n",
       "      <td>0.505208</td>\n",
       "      <td>0.255208</td>\n",
       "      <td>0.505208</td>\n",
       "      <td>0.338542</td>\n",
       "      <td>0.421875</td>\n",
       "      <td>0.338542</td>\n",
       "      <td>0.338542</td>\n",
       "      <td>0.338542</td>\n",
       "      <td>0.255208</td>\n",
       "      <td>0.296875</td>\n",
       "      <td>...</td>\n",
       "      <td>0.630208</td>\n",
       "      <td>0.380208</td>\n",
       "      <td>0.755208</td>\n",
       "      <td>0.546875</td>\n",
       "      <td>0.505208</td>\n",
       "      <td>0.588542</td>\n",
       "      <td>0.630208</td>\n",
       "      <td>0.588542</td>\n",
       "      <td>0.755208</td>\n",
       "      <td>1</td>\n",
       "    </tr>\n",
       "    <tr>\n",
       "      <th>3</th>\n",
       "      <td>0.505208</td>\n",
       "      <td>0.255208</td>\n",
       "      <td>0.505208</td>\n",
       "      <td>0.338542</td>\n",
       "      <td>0.421875</td>\n",
       "      <td>0.338542</td>\n",
       "      <td>0.338542</td>\n",
       "      <td>0.338542</td>\n",
       "      <td>0.255208</td>\n",
       "      <td>0.296875</td>\n",
       "      <td>...</td>\n",
       "      <td>0.630208</td>\n",
       "      <td>0.380208</td>\n",
       "      <td>0.755208</td>\n",
       "      <td>0.546875</td>\n",
       "      <td>0.505208</td>\n",
       "      <td>0.588542</td>\n",
       "      <td>0.630208</td>\n",
       "      <td>0.588542</td>\n",
       "      <td>0.755208</td>\n",
       "      <td>1</td>\n",
       "    </tr>\n",
       "    <tr>\n",
       "      <th>4</th>\n",
       "      <td>0.505208</td>\n",
       "      <td>0.255208</td>\n",
       "      <td>0.505208</td>\n",
       "      <td>0.338542</td>\n",
       "      <td>0.421875</td>\n",
       "      <td>0.338542</td>\n",
       "      <td>0.296875</td>\n",
       "      <td>0.338542</td>\n",
       "      <td>0.213542</td>\n",
       "      <td>0.296875</td>\n",
       "      <td>...</td>\n",
       "      <td>0.630208</td>\n",
       "      <td>0.380208</td>\n",
       "      <td>0.755208</td>\n",
       "      <td>0.546875</td>\n",
       "      <td>0.505208</td>\n",
       "      <td>0.588542</td>\n",
       "      <td>0.630208</td>\n",
       "      <td>0.588542</td>\n",
       "      <td>0.755208</td>\n",
       "      <td>1</td>\n",
       "    </tr>\n",
       "  </tbody>\n",
       "</table>\n",
       "<p>5 rows × 29 columns</p>\n",
       "</div>"
      ],
      "text/plain": [
       "         0         1         2         3         4         5         6   \\\n",
       "0  0.505208  0.255208  0.546875  0.255208  0.491319  0.269097  0.421875   \n",
       "1  0.505208  0.255208  0.519097  0.269097  0.477431  0.269097  0.421875   \n",
       "2  0.505208  0.255208  0.505208  0.338542  0.421875  0.338542  0.338542   \n",
       "3  0.505208  0.255208  0.505208  0.338542  0.421875  0.338542  0.338542   \n",
       "4  0.505208  0.255208  0.505208  0.338542  0.421875  0.338542  0.296875   \n",
       "\n",
       "         7         8         9   ...        19        20        21        22  \\\n",
       "0  0.296875  0.421875  0.255208  ...  0.630208  0.380208  0.755208  0.546875   \n",
       "1  0.310764  0.407986  0.255208  ...  0.630208  0.380208  0.741319  0.546875   \n",
       "2  0.338542  0.255208  0.296875  ...  0.630208  0.380208  0.755208  0.546875   \n",
       "3  0.338542  0.255208  0.296875  ...  0.630208  0.380208  0.755208  0.546875   \n",
       "4  0.338542  0.213542  0.296875  ...  0.630208  0.380208  0.755208  0.546875   \n",
       "\n",
       "         23        24        25        26        27  28  \n",
       "0  0.463542  0.588542  0.630208  0.630208  0.755208   1  \n",
       "1  0.463542  0.588542  0.630208  0.630208  0.755208   1  \n",
       "2  0.505208  0.588542  0.630208  0.588542  0.755208   1  \n",
       "3  0.505208  0.588542  0.630208  0.588542  0.755208   1  \n",
       "4  0.505208  0.588542  0.630208  0.588542  0.755208   1  \n",
       "\n",
       "[5 rows x 29 columns]"
      ]
     },
     "execution_count": 147,
     "metadata": {},
     "output_type": "execute_result"
    }
   ],
   "source": [
    "df.head()"
   ]
  },
  {
   "cell_type": "code",
   "execution_count": 148,
   "metadata": {},
   "outputs": [
    {
     "name": "stdout",
     "output_type": "stream",
     "text": [
      "Number of Points: 53\n"
     ]
    }
   ],
   "source": [
    "print('Number of Points:', df.shape[0])"
   ]
  },
  {
   "cell_type": "code",
   "execution_count": 149,
   "metadata": {},
   "outputs": [],
   "source": [
    "X = df.iloc[:, :-1].to_numpy()\n",
    "Y = df.iloc[:, 28].to_numpy()"
   ]
  },
  {
   "cell_type": "code",
   "execution_count": 150,
   "metadata": {},
   "outputs": [],
   "source": [
    "scaler = RobustScaler()\n",
    "# X = scaler.fit_transform(X)"
   ]
  },
  {
   "cell_type": "code",
   "execution_count": 151,
   "metadata": {},
   "outputs": [],
   "source": [
    "cv = KFold(n_splits=5, random_state=1, shuffle=True)"
   ]
  },
  {
   "cell_type": "code",
   "execution_count": 152,
   "metadata": {},
   "outputs": [],
   "source": [
    "def calcAccuracy(clf, clf_name):\n",
    "    scores = []\n",
    "    bestScore = 0\n",
    "    bestClassifier = None\n",
    "    bestConfusionMatrix = None\n",
    "    \n",
    "    for train_index, test_index in cv.split(X):\n",
    "        X_train, X_test, y_train, y_test = X[train_index], X[test_index], Y[train_index], Y[test_index]\n",
    "\n",
    "        clf.fit(X_train, y_train)\n",
    "        score = clf.score(X_test, y_test)\n",
    "        scores.append(score)\n",
    "        y_pred = clf.predict(X_test)\n",
    "        \n",
    "        if score > bestScore:\n",
    "            bestScore = score\n",
    "            bestClassifier = clf\n",
    "            bestConfusionMatrix = confusion_matrix(y_test, y_pred)\n",
    "\n",
    "    print(clf_name)\n",
    "    print(\"Mean Accuracy: \" + str(round(np.mean(scores), 4) * 100) + \"%\")\n",
    "    print(bestConfusionMatrix)\n",
    "    print()"
   ]
  },
  {
   "cell_type": "code",
   "execution_count": 153,
   "metadata": {},
   "outputs": [
    {
     "name": "stdout",
     "output_type": "stream",
     "text": [
      "K-Nearest Neighbors\n",
      "Mean Accuracy: 100.0%\n",
      "[[9 0]\n",
      " [0 2]]\n",
      "\n",
      "Neural Network\n",
      "Mean Accuracy: 100.0%\n",
      "[[9 0]\n",
      " [0 2]]\n",
      "\n",
      "Random Forest\n",
      "Mean Accuracy: 98.18%\n",
      "[[5 0]\n",
      " [0 6]]\n",
      "\n"
     ]
    }
   ],
   "source": [
    "calcAccuracy(KNeighborsClassifier(), \"K-Nearest Neighbors\")\n",
    "calcAccuracy(MLPClassifier(hidden_layer_sizes=(100, 50)), \"Neural Network\")\n",
    "calcAccuracy(RandomForestClassifier(), \"Random Forest\")"
   ]
  },
  {
   "cell_type": "code",
   "execution_count": 154,
   "metadata": {},
   "outputs": [
    {
     "data": {
      "text/plain": [
       "RandomForestClassifier(bootstrap=True, class_weight=None, criterion='gini',\n",
       "                       max_depth=None, max_features='auto', max_leaf_nodes=None,\n",
       "                       min_impurity_decrease=0.0, min_impurity_split=None,\n",
       "                       min_samples_leaf=1, min_samples_split=2,\n",
       "                       min_weight_fraction_leaf=0.0, n_estimators=10,\n",
       "                       n_jobs=None, oob_score=False, random_state=None,\n",
       "                       verbose=0, warm_start=False)"
      ]
     },
     "execution_count": 154,
     "metadata": {},
     "output_type": "execute_result"
    }
   ],
   "source": [
    "model = RandomForestClassifier()\n",
    "model.fit(X, Y)"
   ]
  },
  {
   "cell_type": "code",
   "execution_count": 155,
   "metadata": {},
   "outputs": [],
   "source": [
    "import coremltools\n",
    "\n",
    "featureNames = [\"topX\", \"topY\",\n",
    "                \"neckX\", \"neckY\",\n",
    "                \"rShoulderX\", \"rShouderY\",\n",
    "                \"rElbowX\", \"rElbowY\",\n",
    "                \"rWristX\", \"rWristY\",\n",
    "                \"lShoulderX\", \"lShoulderY\",\n",
    "                \"lElbowX\", \"lElbowY\",\n",
    "                \"lWristX\", \"lWristY\",\n",
    "                \"rHipX\", \"rHipY\",\n",
    "                \"rKneeX\", \"rKneeY\",\n",
    "                \"rAnkleX\", \"rAnkleY\",\n",
    "                \"lHipX\", \"lHipY\",\n",
    "                \"lKneeX\", \"lKneeY\",\n",
    "                \"lAnkleX\", \"lAnkleY\"]\n",
    "labelName = \"label\"\n",
    "\n",
    "coreml_model = coremltools.converters.sklearn.convert(model, featureNames, labelName)\n",
    "coreml_model.save(classifierName)"
   ]
  },
  {
   "cell_type": "code",
   "execution_count": null,
   "metadata": {},
   "outputs": [],
   "source": []
  }
 ],
 "metadata": {
  "kernelspec": {
   "display_name": "Python 3",
   "language": "python",
   "name": "python3"
  },
  "language_info": {
   "codemirror_mode": {
    "name": "ipython",
    "version": 3
   },
   "file_extension": ".py",
   "mimetype": "text/x-python",
   "name": "python",
   "nbconvert_exporter": "python",
   "pygments_lexer": "ipython3",
   "version": "3.7.3"
  }
 },
 "nbformat": 4,
 "nbformat_minor": 2
}
